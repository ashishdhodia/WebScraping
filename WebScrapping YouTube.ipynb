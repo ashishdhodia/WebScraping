{
 "cells": [
  {
   "cell_type": "code",
   "execution_count": 1,
   "metadata": {},
   "outputs": [],
   "source": [
    "import requests\n",
    "from bs4 import BeautifulSoup as bs"
   ]
  },
  {
   "cell_type": "code",
   "execution_count": 2,
   "metadata": {},
   "outputs": [
    {
     "data": {
      "text/plain": [
       "b'<!doctype html>\\n<html lang=\"en\">\\n\\n<head>\\n  <!-- Required meta tags -->\\n  <meta charset=\"utf-8\">\\n  <meta name=\"viewport\" content=\"width=device-width, initial-scale=1, shrink-to-fit=no\">\\n  <!-- Bootstrap CSS -->\\n  <link rel=\"stylesheet\" href=\"https://stackpath.bootstrapcdn.com/bootstrap/4.3.1/css/bootstrap.min.css\"\\n    integrity=\"sha384-ggOyR0iXCbMQv3Xipma34MD+dH/1fQ784/j6cY/iJTQUOhcWr7x9JvoRxT2MZw1T\" crossorigin=\"anonymous\">\\n  \\n  \\n\\n  <style>\\n\\n\\n    .notification-bell {\\n      position: absolute;\\n      right: 0px;\\n    }\\n\\n    .dropdown-menu-notify {\\n      overflow-y: scroll;\\n      overflow-x: hidden;\\n      max-height: 400px;\\n      top: 60px;\\n      right: -1px;\\n      left: unset;\\n      width: 460px;\\n      box-shadow: 0px 5px 7px -1px #c1c1c1;\\n      padding-bottom: 0px;\\n      padding: 0px;\\n    }\\n\\n    ul ul a {\\n      background: transparent;\\n\\n    }\\n\\n    .dropdown-menu-notify:before {\\n      content: \"\";\\n      position: absolute;\\n      top: -20px;\\n      right: 12px;\\n      border: 10px solid white;\\n      border-color: transparent transparent white transparent;\\n    }\\n\\n\\n\\n    .head-notify {\\n      padding: 5px 15px;\\n      border-radius: 3px 3px 0px 0px;\\n    }\\n\\n    .footer-notify {\\n      padding: 5px 15px;\\n      border-radius: 0px 0px 3px 3px;\\n    }\\n\\n    .notification-box-notify {\\n      padding: 10px 0px;\\n    }\\n\\n    .bg-gray-notify {\\n      background-color: #eee;\\n    }\\n\\n    @media (max-width: 640px) {\\n      .dropdown-menu-notify {\\n        top: 50px;\\n        left: -16px;\\n        width: 290px;\\n      }\\n\\n      .nav-notify {\\n        display: block;\\n      }\\n\\n      .nav-notify .nav-item-notify,\\n      .nav-notify .nav-item-notify a {\\n        padding-left: 0px;\\n      }\\n\\n      .message-notify {\\n        font-size: 13px;\\n      }\\n    }\\n  </style>\\n\\n  \\n  <link rel=\"stylesheet\" href=\"/static/common/css/base.css\">\\n  <link rel=\"icon\" type=\"image/png\" href=\"/static/common/img/favicon.png\">\\n\\n  <title>\\nFree Programming Videos, Courses & More In Hindi\\n - Code With Harry</title>\\n  <!-- Global site tag (gtag.js) - Google Analytics -->\\n  <script async src=\"https://www.googletagmanager.com/gtag/js?id=UA-60726752-3\"></script>\\n\\n  <script>\\n    window.dataLayer = window.dataLayer || [];\\n    function gtag() { dataLayer.push(arguments); }\\n    gtag(\\'js\\', new Date());\\n    gtag(\\'config\\', \\'UA-60726752-3\\');\\n  </script>\\n\\n  <!-- Google Ads Auto -->\\n  <script async src=\"//pagead2.googlesyndication.com/pagead/js/adsbygoogle.js\"></script>\\n  <script>\\n    (adsbygoogle = window.adsbygoogle || []).push({\\n      google_ad_client: \"ca-pub-9655830461045889\",\\n      enable_page_level_ads: true\\n    });\\n  </script>\\n</head>\\n\\n<body>\\n  <nav class=\"navbar navbar-expand-lg navbar-dark bg-dark\">\\n    <a class=\"navbar-brand\" href=\"/\"><img class=\"brandLogo\" src=\"/static/common/img/photo.png\"\\n        alt=\"My image\"></a>\\n\\n    <button class=\"navbar-toggler\" type=\"button\" data-toggle=\"collapse\" data-target=\"#navbarSupportedContent\"\\n      aria-controls=\"navbarSupportedContent\" aria-expanded=\"false\" aria-label=\"Toggle navigation\">\\n      <span class=\"navbar-toggler-icon\"></span>\\n    </button>\\n\\n    <div class=\"collapse navbar-collapse\" id=\"navbarSupportedContent\">\\n      <ul class=\"navbar-nav mr-auto\">\\n\\n        <li class=\"nav-item\">\\n          <a class=\"nav-link\" href=\"/\">Home</a>\\n        </li>\\n\\n        <li class=\"nav-item\">\\n          <a class=\"nav-link\" href=\"/videos\">Videos</a>\\n        </li>\\n\\n        <li class=\"nav-item\">\\n          <a class=\"nav-link\" href=\"/blog\">Blog</a>\\n        </li>\\n\\n        <li class=\"nav-item\">\\n          <a class=\"nav-link\" href=\"/contact\">Contact Me</a>\\n        </li>\\n      </ul>\\n\\n      <form class=\"form-inline my-2 my-lg-0 mr-3\" method=\"get\" action=\"/search/\">\\n        <input class=\"form-control mr-sm-2\" type=\"search\" placeholder=\"Search\" aria-label=\"Search\" name=\"query\">\\n        <button class=\"btn btn-danger my-2 my-sm-0\" type=\"submit\">Search</button>\\n\\n      </form>\\n      \\n      <div>\\n        <button type=\"button\" class=\"btn btn-danger\" data-toggle=\"modal\" data-target=\"#loginModal\">Login</button>\\n        <button type=\"button\" class=\"btn btn-danger\" data-toggle=\"modal\" data-target=\"#signupModal\">SignUp</button>\\n      </div>\\n      \\n    </div>\\n\\n  </nav>\\n  \\n  <!-- Login Modal -->\\n<div class=\"modal fade\" id=\"loginModal\" tabindex=\"-1\" role=\"dialog\" aria-labelledby=\"loginModal\" aria-hidden=\"true\">\\n    <div class=\"modal-dialog\" role=\"document\">\\n        <div class=\"modal-content\">\\n            \\n            <div class=\"modal-header\">\\n                <h5 class=\"modal-title\" id=\"loginModal\">Login using your credentials</h5>\\n                <button type=\"button\" class=\"close\" data-dismiss=\"modal\" aria-label=\"Close\">\\n                    <span aria-hidden=\"true\">&times;</span>\\n                </button>\\n            </div>\\n\\n            <div class=\"modal-body\">\\n                <form action=\"/profile/login\" method=\\'post\\'><input type=\"hidden\" name=\"csrfmiddlewaretoken\" value=\"l6gqo92ebzFuENh8hCkjYyMs4UCFmwzZqKp4mqm4r9ChRkShRuiDctm0ra8kCFIh\">\\n                    <div class=\"form-group\">\\n                        <label for=\"lusername\">Username</label>\\n                        <input type=\"name\" class=\"form-control\" id=\"luname\" placeholder=\"Enter your username\"\\n                            name=\"uname\">\\n                    </div>\\n                    <div class=\"form-group\">\\n                        <label for=\"password\">Password</label>\\n                        <input type=\"password\" class=\"form-control\" id=\"lpassword\" placeholder=\"Enter your password\"\\n                            name=\"password\">\\n                    </div>\\n                    <div class=\"g-recaptcha\" data-sitekey=\"6LdvcqwUAAAAACmPYNVoiJA7D84xLSQQt5g9p10m\"></div>\\n                    <input type=\"hidden\" name=\"path\" value=\"/\">\\n\\n                    <button type=\"submit\" class=\"btn btn-danger mt-2\" id=\"loginsubmit\">Login</button>\\n                </form>\\n            </div>\\n\\n            <div class=\"modal-footer\">\\n                <button type=\"button\" class=\"btn btn-secondary\" data-dismiss=\"modal\">Close</button>\\n            </div>\\n\\n        </div>\\n    </div>\\n</div>\\n  <!-- SignUp Modal -->\\n<div class=\"modal fade\" id=\"signupModal\" tabindex=\"-1\" role=\"dialog\" aria-labelledby=\"signupModal\" aria-hidden=\"true\">\\n  <div class=\"modal-dialog\" role=\"document\">\\n    <div class=\"modal-content\">\\n      <div class=\"modal-header\">\\n        <h5 class=\"modal-title\" id=\"signupModal\">SignUp for an account</h5>\\n        <button type=\"button\" class=\"close\" data-dismiss=\"modal\" aria-label=\"Close\">\\n          <span aria-hidden=\"true\">&times;</span>\\n        </button>\\n      </div>\\n\\n      <div class=\"modal-body\">\\n            <form name=\"contact\" method=\"post\" action=\"/profile/signup\"><input type=\"hidden\" name=\"csrfmiddlewaretoken\" value=\"l6gqo92ebzFuENh8hCkjYyMs4UCFmwzZqKp4mqm4r9ChRkShRuiDctm0ra8kCFIh\">\\n                \\n                <div class=\"form-group\">\\n                    <label for=\"uname\">Username</label>\\n                    <input type=\"text\" class=\"form-control\" id=\"uname\" placeholder=\"Enter your Name\" name=\"uname\">\\n                </div>\\n                <div class=\"form-group\">\\n                    <label for=\"name\">First Name</label>\\n                    <input type=\"text\" class=\"form-control\" id=\"fname\" placeholder=\"Enter your First Name\" name=\"fname\">\\n                </div>\\n                <div class=\"form-group\">\\n                    <label for=\"name\">Last Name</label>\\n                    <input type=\"text\" class=\"form-control\" id=\"lname\" placeholder=\"Enter your Last Name\" name=\"lname\">\\n                </div>\\n                <div class=\"form-group\">\\n                    <label for=\"email\">Your Email</label>\\n                    <input type=\"email\" class=\"form-control\" id=\"email\" placeholder=\"Enter your Email\" name=\"email\">\\n                </div>\\n                <div class=\"form-group\">\\n                    <label for=\"password\">Choose a password</label>\\n                    <input type=\"password\" class=\"form-control\" id=\"password\" placeholder=\"Choose a password\" name=\"password\">\\n                </div>\\n                <div class=\"form-group\">\\n                    <label for=\"password2\">Retype a password</label>\\n                    <input type=\"password\" class=\"form-control\" id=\"password2\" placeholder=\"Retype your password\" name=\"password2\">\\n                </div>\\n                <div class=\"g-recaptcha\" data-sitekey=\"6LdvcqwUAAAAACmPYNVoiJA7D84xLSQQt5g9p10m\"></div>\\n                <input type=\"hidden\" name=\"path\" value=\"/\">\\n                <button type=\"submit\" class=\"btn btn-danger mt-2\">SignUp</button>\\n            </form>\\n        </div>\\n\\n      <div class=\"modal-footer\">\\n        <button type=\"button\" class=\"btn btn-secondary\" data-dismiss=\"modal\">Close</button>\\n      </div>\\n    </div>\\n  </div>\\n</div>\\n  \\n<section class=\"jumbotron text-center\">\\n    <div class=\"container\">\\n        <img src=\"/static/common/img/photo.png\" alt=\"logo\" width=\"120\">\\n        <h1 class=\"jumbotron-heading\"><span id=\"typed\"></span></h1>\\n        <p class=\"lead text-muted\">Confused on which course to take? I have got you covered. Browse courses and find out\\n            the best course for you. Its free!<br>Code With Harry is my attempt to teach basics and those coding\\n            techniques to people in short time which took me ages to learn.</p>\\n        <p>\\n            <a href=\"/blog\" class=\"btn btn-danger my-2\">Browse Blog</a>\\n            <a href=\"/videos\" class=\"btn btn-success my-2\">Browse Video Tutorials</a>\\n            <a href=\"/contact\" class=\"btn btn-primary my-2\">Contact Me</a>\\n        </p>\\n    </div>\\n</section>\\n\\n<div class=\"container\">\\n    <div class=\"row\">\\n        <div class=\"card mx-auto my-2 p-2\" style=\"width: 18rem;\">\\n            <img width=\"23px\" height=\"245px\" src=\"/static/home/img/coding.jpg\" class=\"card-img-top\" alt=\"...\">\\n            <div class=\"card-body\">\\n                <h5 class=\"card-title\">Free Video Courses</h5>\\n                <p class=\"card-text\">Get your programming career started with these free video courses. Source code is\\n                    available with all the videos for your better experience</p>\\n                <a href=\"/videos\" class=\"btn btn-primary\">Browse Video Courses</a>\\n            </div>\\n        </div>\\n\\n        <div class=\"card mx-auto my-2 p-2\" style=\"width: 18rem;\">\\n            <img width=\"23px\" height=\"245px\" src=\"/static/home/img/lambda.png\" class=\"card-img-top\" alt=\"...\">\\n            <div class=\"card-body\">\\n                <h5 class=\"card-title\">Coding Articles</h5>\\n                <p class=\"card-text\">Some of the latest coding information compiled as coding articles. Keep your\\n                    programming knowledge up to date with our coding articles.</p>\\n                <a href=\"/blog\" class=\"btn btn-primary\">Go to Blog</a>\\n            </div>\\n        </div>\\n\\n        <div class=\"card mx-auto my-2 p-2\" style=\"width: 18rem;\">\\n            <img width=\"23px\" height=\"245px\" src=\"/static/home/img/python.png\" class=\"card-img-top\" alt=\"...\">\\n            <div class=\"card-body\">\\n                <h5 class=\"card-title\">Contact Me</h5>\\n                <p class=\"card-text\">Learn programming from our free courses. Examples are available with these\\n                    tutorials. You can contact me for any doubt and I will get back to you!</p>\\n                <a href=\"/contact\" class=\"btn btn-primary\">Contact Me</a>\\n            </div>\\n        </div>\\n\\n    </div>\\n\\n</div>\\n\\n\\n\\n  <!-- FOOTER -->\\n  <footer class=\"container mt-3\">\\n    <p class=\"float-right\"><a href=\"#\">Back to top</a></p>\\n    <p>&copy; 2019-2020 CodeWithHarry.com &middot; <a href=\"#\">Privacy</a> &middot; <a href=\"#\">Terms</a></p>\\n  </footer>\\n  <!-- Custom JavaScript -->\\n\\n  <script src=\"/static/common/js/base.js\"></script>\\n  <script src=\"https://apis.google.com/js/platform.js\"></script>\\n  <script src=\"https://www.google.com/recaptcha/api.js\" async defer></script>\\n\\n  <!-- jQuery first, then Popper.js, then Bootstrap JS -->\\n  <script src=\"https://code.jquery.com/jquery-3.3.1.slim.min.js\"\\n    integrity=\"sha384-q8i/X+965DzO0rT7abK41JStQIAqVgRVzpbzo5smXKp4YfRvH+8abtTE1Pi6jizo\"\\n    crossorigin=\"anonymous\"></script>\\n  <script src=\"https://cdnjs.cloudflare.com/ajax/libs/popper.js/1.14.7/umd/popper.min.js\"\\n    integrity=\"sha384-UO2eT0CpHqdSJQ6hJty5KVphtPhzWj9WO1clHTMGa3JDZwrnQq4sF86dIHNDz0W1\"\\n    crossorigin=\"anonymous\"></script>\\n  <script src=\"https://stackpath.bootstrapcdn.com/bootstrap/4.3.1/js/bootstrap.min.js\"\\n    integrity=\"sha384-JjSmVgyd0p3pXB1rRibZUAYoIIy6OrQ6VrjIEaFf/nJGzIxFDsf4x0xIM+B07jRM\"\\n    crossorigin=\"anonymous\"></script>\\n  <script src=\"https://kit.fontawesome.com/433888fe69.js\" crossorigin=\"anonymous\"></script>\\n  \\n<script src=\"https://cdnjs.cloudflare.com/ajax/libs/typed.js/2.0.9/typed.min.js\"></script>\\n<script>\\n    window.onload = function () {\\n        console.log(\"loaded\")\\n        var typed = new Typed(\\'#typed\\', {\\n            strings: [\"Welcome to CodeWithHarry\", \"Learn Python\", \"Web development\", \"Data Science\", \"Machine Learning\", \"and other awesome programming concepts with me :)\"],\\n            backSpeed: 15,\\n            smartBackspace: true,\\n            backDelay: 1200,\\n            startDelay: 1000,\\n            typeSpeed: 25,\\n            loop: true,\\n        });\\n    };\\n</script>\\n\\n</body>\\n\\n</html>'"
      ]
     },
     "execution_count": 2,
     "metadata": {},
     "output_type": "execute_result"
    }
   ],
   "source": [
    "url = \"https://www.codewithharry.com/\"\n",
    "r = requests.get(url)\n",
    "content = r.content\n",
    "content"
   ]
  },
  {
   "cell_type": "code",
   "execution_count": 3,
   "metadata": {},
   "outputs": [
    {
     "data": {
      "text/plain": [
       "<!DOCTYPE html>\n",
       "\n",
       "<html lang=\"en\">\n",
       "<head>\n",
       "<!-- Required meta tags -->\n",
       "<meta charset=\"utf-8\"/>\n",
       "<meta content=\"width=device-width, initial-scale=1, shrink-to-fit=no\" name=\"viewport\"/>\n",
       "<!-- Bootstrap CSS -->\n",
       "<link crossorigin=\"anonymous\" href=\"https://stackpath.bootstrapcdn.com/bootstrap/4.3.1/css/bootstrap.min.css\" integrity=\"sha384-ggOyR0iXCbMQv3Xipma34MD+dH/1fQ784/j6cY/iJTQUOhcWr7x9JvoRxT2MZw1T\" rel=\"stylesheet\"/>\n",
       "<style>\n",
       "\n",
       "\n",
       "    .notification-bell {\n",
       "      position: absolute;\n",
       "      right: 0px;\n",
       "    }\n",
       "\n",
       "    .dropdown-menu-notify {\n",
       "      overflow-y: scroll;\n",
       "      overflow-x: hidden;\n",
       "      max-height: 400px;\n",
       "      top: 60px;\n",
       "      right: -1px;\n",
       "      left: unset;\n",
       "      width: 460px;\n",
       "      box-shadow: 0px 5px 7px -1px #c1c1c1;\n",
       "      padding-bottom: 0px;\n",
       "      padding: 0px;\n",
       "    }\n",
       "\n",
       "    ul ul a {\n",
       "      background: transparent;\n",
       "\n",
       "    }\n",
       "\n",
       "    .dropdown-menu-notify:before {\n",
       "      content: \"\";\n",
       "      position: absolute;\n",
       "      top: -20px;\n",
       "      right: 12px;\n",
       "      border: 10px solid white;\n",
       "      border-color: transparent transparent white transparent;\n",
       "    }\n",
       "\n",
       "\n",
       "\n",
       "    .head-notify {\n",
       "      padding: 5px 15px;\n",
       "      border-radius: 3px 3px 0px 0px;\n",
       "    }\n",
       "\n",
       "    .footer-notify {\n",
       "      padding: 5px 15px;\n",
       "      border-radius: 0px 0px 3px 3px;\n",
       "    }\n",
       "\n",
       "    .notification-box-notify {\n",
       "      padding: 10px 0px;\n",
       "    }\n",
       "\n",
       "    .bg-gray-notify {\n",
       "      background-color: #eee;\n",
       "    }\n",
       "\n",
       "    @media (max-width: 640px) {\n",
       "      .dropdown-menu-notify {\n",
       "        top: 50px;\n",
       "        left: -16px;\n",
       "        width: 290px;\n",
       "      }\n",
       "\n",
       "      .nav-notify {\n",
       "        display: block;\n",
       "      }\n",
       "\n",
       "      .nav-notify .nav-item-notify,\n",
       "      .nav-notify .nav-item-notify a {\n",
       "        padding-left: 0px;\n",
       "      }\n",
       "\n",
       "      .message-notify {\n",
       "        font-size: 13px;\n",
       "      }\n",
       "    }\n",
       "  </style>\n",
       "<link href=\"/static/common/css/base.css\" rel=\"stylesheet\"/>\n",
       "<link href=\"/static/common/img/favicon.png\" rel=\"icon\" type=\"image/png\"/>\n",
       "<title>\n",
       "Free Programming Videos, Courses &amp; More In Hindi\n",
       " - Code With Harry</title>\n",
       "<!-- Global site tag (gtag.js) - Google Analytics -->\n",
       "<script async=\"\" src=\"https://www.googletagmanager.com/gtag/js?id=UA-60726752-3\"></script>\n",
       "<script>\n",
       "    window.dataLayer = window.dataLayer || [];\n",
       "    function gtag() { dataLayer.push(arguments); }\n",
       "    gtag('js', new Date());\n",
       "    gtag('config', 'UA-60726752-3');\n",
       "  </script>\n",
       "<!-- Google Ads Auto -->\n",
       "<script async=\"\" src=\"//pagead2.googlesyndication.com/pagead/js/adsbygoogle.js\"></script>\n",
       "<script>\n",
       "    (adsbygoogle = window.adsbygoogle || []).push({\n",
       "      google_ad_client: \"ca-pub-9655830461045889\",\n",
       "      enable_page_level_ads: true\n",
       "    });\n",
       "  </script>\n",
       "</head>\n",
       "<body>\n",
       "<nav class=\"navbar navbar-expand-lg navbar-dark bg-dark\">\n",
       "<a class=\"navbar-brand\" href=\"/\"><img alt=\"My image\" class=\"brandLogo\" src=\"/static/common/img/photo.png\"/></a>\n",
       "<button aria-controls=\"navbarSupportedContent\" aria-expanded=\"false\" aria-label=\"Toggle navigation\" class=\"navbar-toggler\" data-target=\"#navbarSupportedContent\" data-toggle=\"collapse\" type=\"button\">\n",
       "<span class=\"navbar-toggler-icon\"></span>\n",
       "</button>\n",
       "<div class=\"collapse navbar-collapse\" id=\"navbarSupportedContent\">\n",
       "<ul class=\"navbar-nav mr-auto\">\n",
       "<li class=\"nav-item\">\n",
       "<a class=\"nav-link\" href=\"/\">Home</a>\n",
       "</li>\n",
       "<li class=\"nav-item\">\n",
       "<a class=\"nav-link\" href=\"/videos\">Videos</a>\n",
       "</li>\n",
       "<li class=\"nav-item\">\n",
       "<a class=\"nav-link\" href=\"/blog\">Blog</a>\n",
       "</li>\n",
       "<li class=\"nav-item\">\n",
       "<a class=\"nav-link\" href=\"/contact\">Contact Me</a>\n",
       "</li>\n",
       "</ul>\n",
       "<form action=\"/search/\" class=\"form-inline my-2 my-lg-0 mr-3\" method=\"get\">\n",
       "<input aria-label=\"Search\" class=\"form-control mr-sm-2\" name=\"query\" placeholder=\"Search\" type=\"search\"/>\n",
       "<button class=\"btn btn-danger my-2 my-sm-0\" type=\"submit\">Search</button>\n",
       "</form>\n",
       "<div>\n",
       "<button class=\"btn btn-danger\" data-target=\"#loginModal\" data-toggle=\"modal\" type=\"button\">Login</button>\n",
       "<button class=\"btn btn-danger\" data-target=\"#signupModal\" data-toggle=\"modal\" type=\"button\">SignUp</button>\n",
       "</div>\n",
       "</div>\n",
       "</nav>\n",
       "<!-- Login Modal -->\n",
       "<div aria-hidden=\"true\" aria-labelledby=\"loginModal\" class=\"modal fade\" id=\"loginModal\" role=\"dialog\" tabindex=\"-1\">\n",
       "<div class=\"modal-dialog\" role=\"document\">\n",
       "<div class=\"modal-content\">\n",
       "<div class=\"modal-header\">\n",
       "<h5 class=\"modal-title\" id=\"loginModal\">Login using your credentials</h5>\n",
       "<button aria-label=\"Close\" class=\"close\" data-dismiss=\"modal\" type=\"button\">\n",
       "<span aria-hidden=\"true\">×</span>\n",
       "</button>\n",
       "</div>\n",
       "<div class=\"modal-body\">\n",
       "<form action=\"/profile/login\" method=\"post\"><input name=\"csrfmiddlewaretoken\" type=\"hidden\" value=\"l6gqo92ebzFuENh8hCkjYyMs4UCFmwzZqKp4mqm4r9ChRkShRuiDctm0ra8kCFIh\"/>\n",
       "<div class=\"form-group\">\n",
       "<label for=\"lusername\">Username</label>\n",
       "<input class=\"form-control\" id=\"luname\" name=\"uname\" placeholder=\"Enter your username\" type=\"name\"/>\n",
       "</div>\n",
       "<div class=\"form-group\">\n",
       "<label for=\"password\">Password</label>\n",
       "<input class=\"form-control\" id=\"lpassword\" name=\"password\" placeholder=\"Enter your password\" type=\"password\"/>\n",
       "</div>\n",
       "<div class=\"g-recaptcha\" data-sitekey=\"6LdvcqwUAAAAACmPYNVoiJA7D84xLSQQt5g9p10m\"></div>\n",
       "<input name=\"path\" type=\"hidden\" value=\"/\"/>\n",
       "<button class=\"btn btn-danger mt-2\" id=\"loginsubmit\" type=\"submit\">Login</button>\n",
       "</form>\n",
       "</div>\n",
       "<div class=\"modal-footer\">\n",
       "<button class=\"btn btn-secondary\" data-dismiss=\"modal\" type=\"button\">Close</button>\n",
       "</div>\n",
       "</div>\n",
       "</div>\n",
       "</div>\n",
       "<!-- SignUp Modal -->\n",
       "<div aria-hidden=\"true\" aria-labelledby=\"signupModal\" class=\"modal fade\" id=\"signupModal\" role=\"dialog\" tabindex=\"-1\">\n",
       "<div class=\"modal-dialog\" role=\"document\">\n",
       "<div class=\"modal-content\">\n",
       "<div class=\"modal-header\">\n",
       "<h5 class=\"modal-title\" id=\"signupModal\">SignUp for an account</h5>\n",
       "<button aria-label=\"Close\" class=\"close\" data-dismiss=\"modal\" type=\"button\">\n",
       "<span aria-hidden=\"true\">×</span>\n",
       "</button>\n",
       "</div>\n",
       "<div class=\"modal-body\">\n",
       "<form action=\"/profile/signup\" method=\"post\" name=\"contact\"><input name=\"csrfmiddlewaretoken\" type=\"hidden\" value=\"l6gqo92ebzFuENh8hCkjYyMs4UCFmwzZqKp4mqm4r9ChRkShRuiDctm0ra8kCFIh\"/>\n",
       "<div class=\"form-group\">\n",
       "<label for=\"uname\">Username</label>\n",
       "<input class=\"form-control\" id=\"uname\" name=\"uname\" placeholder=\"Enter your Name\" type=\"text\"/>\n",
       "</div>\n",
       "<div class=\"form-group\">\n",
       "<label for=\"name\">First Name</label>\n",
       "<input class=\"form-control\" id=\"fname\" name=\"fname\" placeholder=\"Enter your First Name\" type=\"text\"/>\n",
       "</div>\n",
       "<div class=\"form-group\">\n",
       "<label for=\"name\">Last Name</label>\n",
       "<input class=\"form-control\" id=\"lname\" name=\"lname\" placeholder=\"Enter your Last Name\" type=\"text\"/>\n",
       "</div>\n",
       "<div class=\"form-group\">\n",
       "<label for=\"email\">Your Email</label>\n",
       "<input class=\"form-control\" id=\"email\" name=\"email\" placeholder=\"Enter your Email\" type=\"email\"/>\n",
       "</div>\n",
       "<div class=\"form-group\">\n",
       "<label for=\"password\">Choose a password</label>\n",
       "<input class=\"form-control\" id=\"password\" name=\"password\" placeholder=\"Choose a password\" type=\"password\"/>\n",
       "</div>\n",
       "<div class=\"form-group\">\n",
       "<label for=\"password2\">Retype a password</label>\n",
       "<input class=\"form-control\" id=\"password2\" name=\"password2\" placeholder=\"Retype your password\" type=\"password\"/>\n",
       "</div>\n",
       "<div class=\"g-recaptcha\" data-sitekey=\"6LdvcqwUAAAAACmPYNVoiJA7D84xLSQQt5g9p10m\"></div>\n",
       "<input name=\"path\" type=\"hidden\" value=\"/\"/>\n",
       "<button class=\"btn btn-danger mt-2\" type=\"submit\">SignUp</button>\n",
       "</form>\n",
       "</div>\n",
       "<div class=\"modal-footer\">\n",
       "<button class=\"btn btn-secondary\" data-dismiss=\"modal\" type=\"button\">Close</button>\n",
       "</div>\n",
       "</div>\n",
       "</div>\n",
       "</div>\n",
       "<section class=\"jumbotron text-center\">\n",
       "<div class=\"container\">\n",
       "<img alt=\"logo\" src=\"/static/common/img/photo.png\" width=\"120\"/>\n",
       "<h1 class=\"jumbotron-heading\"><span id=\"typed\"></span></h1>\n",
       "<p class=\"lead text-muted\">Confused on which course to take? I have got you covered. Browse courses and find out\n",
       "            the best course for you. Its free!<br/>Code With Harry is my attempt to teach basics and those coding\n",
       "            techniques to people in short time which took me ages to learn.</p>\n",
       "<p>\n",
       "<a class=\"btn btn-danger my-2\" href=\"/blog\">Browse Blog</a>\n",
       "<a class=\"btn btn-success my-2\" href=\"/videos\">Browse Video Tutorials</a>\n",
       "<a class=\"btn btn-primary my-2\" href=\"/contact\">Contact Me</a>\n",
       "</p>\n",
       "</div>\n",
       "</section>\n",
       "<div class=\"container\">\n",
       "<div class=\"row\">\n",
       "<div class=\"card mx-auto my-2 p-2\" style=\"width: 18rem;\">\n",
       "<img alt=\"...\" class=\"card-img-top\" height=\"245px\" src=\"/static/home/img/coding.jpg\" width=\"23px\"/>\n",
       "<div class=\"card-body\">\n",
       "<h5 class=\"card-title\">Free Video Courses</h5>\n",
       "<p class=\"card-text\">Get your programming career started with these free video courses. Source code is\n",
       "                    available with all the videos for your better experience</p>\n",
       "<a class=\"btn btn-primary\" href=\"/videos\">Browse Video Courses</a>\n",
       "</div>\n",
       "</div>\n",
       "<div class=\"card mx-auto my-2 p-2\" style=\"width: 18rem;\">\n",
       "<img alt=\"...\" class=\"card-img-top\" height=\"245px\" src=\"/static/home/img/lambda.png\" width=\"23px\"/>\n",
       "<div class=\"card-body\">\n",
       "<h5 class=\"card-title\">Coding Articles</h5>\n",
       "<p class=\"card-text\">Some of the latest coding information compiled as coding articles. Keep your\n",
       "                    programming knowledge up to date with our coding articles.</p>\n",
       "<a class=\"btn btn-primary\" href=\"/blog\">Go to Blog</a>\n",
       "</div>\n",
       "</div>\n",
       "<div class=\"card mx-auto my-2 p-2\" style=\"width: 18rem;\">\n",
       "<img alt=\"...\" class=\"card-img-top\" height=\"245px\" src=\"/static/home/img/python.png\" width=\"23px\"/>\n",
       "<div class=\"card-body\">\n",
       "<h5 class=\"card-title\">Contact Me</h5>\n",
       "<p class=\"card-text\">Learn programming from our free courses. Examples are available with these\n",
       "                    tutorials. You can contact me for any doubt and I will get back to you!</p>\n",
       "<a class=\"btn btn-primary\" href=\"/contact\">Contact Me</a>\n",
       "</div>\n",
       "</div>\n",
       "</div>\n",
       "</div>\n",
       "<!-- FOOTER -->\n",
       "<footer class=\"container mt-3\">\n",
       "<p class=\"float-right\"><a href=\"#\">Back to top</a></p>\n",
       "<p>© 2019-2020 CodeWithHarry.com · <a href=\"#\">Privacy</a> · <a href=\"#\">Terms</a></p>\n",
       "</footer>\n",
       "<!-- Custom JavaScript -->\n",
       "<script src=\"/static/common/js/base.js\"></script>\n",
       "<script src=\"https://apis.google.com/js/platform.js\"></script>\n",
       "<script async=\"\" defer=\"\" src=\"https://www.google.com/recaptcha/api.js\"></script>\n",
       "<!-- jQuery first, then Popper.js, then Bootstrap JS -->\n",
       "<script crossorigin=\"anonymous\" integrity=\"sha384-q8i/X+965DzO0rT7abK41JStQIAqVgRVzpbzo5smXKp4YfRvH+8abtTE1Pi6jizo\" src=\"https://code.jquery.com/jquery-3.3.1.slim.min.js\"></script>\n",
       "<script crossorigin=\"anonymous\" integrity=\"sha384-UO2eT0CpHqdSJQ6hJty5KVphtPhzWj9WO1clHTMGa3JDZwrnQq4sF86dIHNDz0W1\" src=\"https://cdnjs.cloudflare.com/ajax/libs/popper.js/1.14.7/umd/popper.min.js\"></script>\n",
       "<script crossorigin=\"anonymous\" integrity=\"sha384-JjSmVgyd0p3pXB1rRibZUAYoIIy6OrQ6VrjIEaFf/nJGzIxFDsf4x0xIM+B07jRM\" src=\"https://stackpath.bootstrapcdn.com/bootstrap/4.3.1/js/bootstrap.min.js\"></script>\n",
       "<script crossorigin=\"anonymous\" src=\"https://kit.fontawesome.com/433888fe69.js\"></script>\n",
       "<script src=\"https://cdnjs.cloudflare.com/ajax/libs/typed.js/2.0.9/typed.min.js\"></script>\n",
       "<script>\n",
       "    window.onload = function () {\n",
       "        console.log(\"loaded\")\n",
       "        var typed = new Typed('#typed', {\n",
       "            strings: [\"Welcome to CodeWithHarry\", \"Learn Python\", \"Web development\", \"Data Science\", \"Machine Learning\", \"and other awesome programming concepts with me :)\"],\n",
       "            backSpeed: 15,\n",
       "            smartBackspace: true,\n",
       "            backDelay: 1200,\n",
       "            startDelay: 1000,\n",
       "            typeSpeed: 25,\n",
       "            loop: true,\n",
       "        });\n",
       "    };\n",
       "</script>\n",
       "</body>\n",
       "</html>"
      ]
     },
     "execution_count": 3,
     "metadata": {},
     "output_type": "execute_result"
    }
   ],
   "source": [
    "soup = bs(content, 'html.parser')\n",
    "soup"
   ]
  },
  {
   "cell_type": "code",
   "execution_count": 4,
   "metadata": {},
   "outputs": [
    {
     "data": {
      "text/plain": [
       "<title>\n",
       "Free Programming Videos, Courses &amp; More In Hindi\n",
       " - Code With Harry</title>"
      ]
     },
     "execution_count": 4,
     "metadata": {},
     "output_type": "execute_result"
    }
   ],
   "source": [
    "title = soup.title\n",
    "title"
   ]
  },
  {
   "cell_type": "code",
   "execution_count": 5,
   "metadata": {},
   "outputs": [
    {
     "data": {
      "text/plain": [
       "[<p class=\"lead text-muted\">Confused on which course to take? I have got you covered. Browse courses and find out\n",
       "             the best course for you. Its free!<br/>Code With Harry is my attempt to teach basics and those coding\n",
       "             techniques to people in short time which took me ages to learn.</p>,\n",
       " <p>\n",
       " <a class=\"btn btn-danger my-2\" href=\"/blog\">Browse Blog</a>\n",
       " <a class=\"btn btn-success my-2\" href=\"/videos\">Browse Video Tutorials</a>\n",
       " <a class=\"btn btn-primary my-2\" href=\"/contact\">Contact Me</a>\n",
       " </p>,\n",
       " <p class=\"card-text\">Get your programming career started with these free video courses. Source code is\n",
       "                     available with all the videos for your better experience</p>,\n",
       " <p class=\"card-text\">Some of the latest coding information compiled as coding articles. Keep your\n",
       "                     programming knowledge up to date with our coding articles.</p>,\n",
       " <p class=\"card-text\">Learn programming from our free courses. Examples are available with these\n",
       "                     tutorials. You can contact me for any doubt and I will get back to you!</p>,\n",
       " <p class=\"float-right\"><a href=\"#\">Back to top</a></p>,\n",
       " <p>© 2019-2020 CodeWithHarry.com · <a href=\"#\">Privacy</a> · <a href=\"#\">Terms</a></p>]"
      ]
     },
     "execution_count": 5,
     "metadata": {},
     "output_type": "execute_result"
    }
   ],
   "source": [
    "paras = soup.find_all('p')\n",
    "paras"
   ]
  },
  {
   "cell_type": "code",
   "execution_count": 6,
   "metadata": {},
   "outputs": [
    {
     "name": "stdout",
     "output_type": "stream",
     "text": [
      "<p>\n",
      "<a class=\"btn btn-danger my-2\" href=\"/blog\">Browse Blog</a>\n",
      "<a class=\"btn btn-success my-2\" href=\"/videos\">Browse Video Tutorials</a>\n",
      "<a class=\"btn btn-primary my-2\" href=\"/contact\">Contact Me</a>\n",
      "</p>\n"
     ]
    }
   ],
   "source": [
    "print(soup.find_all('p')[1])"
   ]
  },
  {
   "cell_type": "code",
   "execution_count": 7,
   "metadata": {},
   "outputs": [
    {
     "name": "stdout",
     "output_type": "stream",
     "text": [
      "-> Confused on which course to take? I have got you covered. Browse courses and find out\n",
      "            the best course for you. Its free!Code With Harry is my attempt to teach basics and those coding\n",
      "            techniques to people in short time which took me ages to learn.\n",
      "-> \n",
      "Browse Blog\n",
      "Browse Video Tutorials\n",
      "Contact Me\n",
      "\n",
      "-> Get your programming career started with these free video courses. Source code is\n",
      "                    available with all the videos for your better experience\n",
      "-> Some of the latest coding information compiled as coding articles. Keep your\n",
      "                    programming knowledge up to date with our coding articles.\n",
      "-> Learn programming from our free courses. Examples are available with these\n",
      "                    tutorials. You can contact me for any doubt and I will get back to you!\n",
      "-> Back to top\n",
      "-> © 2019-2020 CodeWithHarry.com · Privacy · Terms\n"
     ]
    }
   ],
   "source": [
    "for i in range(7):\n",
    "    print(f\"-> {soup.find_all('p')[i].get_text()}\")"
   ]
  },
  {
   "cell_type": "code",
   "execution_count": 8,
   "metadata": {},
   "outputs": [
    {
     "data": {
      "text/plain": [
       "[<a class=\"navbar-brand\" href=\"/\"><img alt=\"My image\" class=\"brandLogo\" src=\"/static/common/img/photo.png\"/></a>,\n",
       " <a class=\"nav-link\" href=\"/\">Home</a>,\n",
       " <a class=\"nav-link\" href=\"/videos\">Videos</a>,\n",
       " <a class=\"nav-link\" href=\"/blog\">Blog</a>,\n",
       " <a class=\"nav-link\" href=\"/contact\">Contact Me</a>,\n",
       " <a class=\"btn btn-danger my-2\" href=\"/blog\">Browse Blog</a>,\n",
       " <a class=\"btn btn-success my-2\" href=\"/videos\">Browse Video Tutorials</a>,\n",
       " <a class=\"btn btn-primary my-2\" href=\"/contact\">Contact Me</a>,\n",
       " <a class=\"btn btn-primary\" href=\"/videos\">Browse Video Courses</a>,\n",
       " <a class=\"btn btn-primary\" href=\"/blog\">Go to Blog</a>,\n",
       " <a class=\"btn btn-primary\" href=\"/contact\">Contact Me</a>,\n",
       " <a href=\"#\">Back to top</a>,\n",
       " <a href=\"#\">Privacy</a>,\n",
       " <a href=\"#\">Terms</a>]"
      ]
     },
     "execution_count": 8,
     "metadata": {},
     "output_type": "execute_result"
    }
   ],
   "source": [
    "anchors = soup.find_all('a')\n",
    "anchors"
   ]
  },
  {
   "cell_type": "code",
   "execution_count": 9,
   "metadata": {},
   "outputs": [
    {
     "name": "stdout",
     "output_type": "stream",
     "text": [
      "https://www.codewithharry.com/\n",
      "https://www.codewithharry.com/\n",
      "https://www.codewithharry.com/videos\n",
      "https://www.codewithharry.com/blog\n",
      "https://www.codewithharry.com/contact\n",
      "https://www.codewithharry.com/blog\n",
      "https://www.codewithharry.com/videos\n",
      "https://www.codewithharry.com/contact\n",
      "https://www.codewithharry.com/videos\n",
      "https://www.codewithharry.com/blog\n",
      "https://www.codewithharry.com/contact\n"
     ]
    }
   ],
   "source": [
    "all_links = set()\n",
    "for link in anchors:\n",
    "    if(link.get('href') != '#'):\n",
    "        linktext = \"https://www.codewithharry.com\" + link.get('href')\n",
    "        all_links.add(link)\n",
    "        print(linktext)"
   ]
  },
  {
   "cell_type": "code",
   "execution_count": 10,
   "metadata": {},
   "outputs": [
    {
     "name": "stdout",
     "output_type": "stream",
     "text": [
      " this is comment \n"
     ]
    }
   ],
   "source": [
    "markup = \"<p><!-- this is comment --></p>\"\n",
    "soup2 = bs(markup)\n",
    "print(soup2.p.string)"
   ]
  },
  {
   "cell_type": "code",
   "execution_count": null,
   "metadata": {},
   "outputs": [],
   "source": []
  }
 ],
 "metadata": {
  "kernelspec": {
   "display_name": "Python 3",
   "language": "python",
   "name": "python3"
  },
  "language_info": {
   "codemirror_mode": {
    "name": "ipython",
    "version": 3
   },
   "file_extension": ".py",
   "mimetype": "text/x-python",
   "name": "python",
   "nbconvert_exporter": "python",
   "pygments_lexer": "ipython3",
   "version": "3.7.6"
  }
 },
 "nbformat": 4,
 "nbformat_minor": 4
}
